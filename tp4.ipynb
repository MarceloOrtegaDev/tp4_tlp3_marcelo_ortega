{
 "cells": [
  {
   "cell_type": "markdown",
   "id": "3e4771e8",
   "metadata": {},
   "source": [
    "# Trabajo Practico n4 - Introduccion a numpy.\n",
    "## Criterios de evaluación.\n",
    "\n",
    "* Se deben utilizar nombres de variables descriptivos y claros (Utilizar la nomeclatura correspondiente para los nombres de variables).\n",
    "* Comentarios claros y concisos que expliquen el propósito de cada sección del código.\n",
    "* Utilizar mensajes de commit **descriptivos**. (Puedes utilizar la extension CONVENTIONAL COMMIT de VS-CODE). \n",
    "* Entrega en tiempo y forma.\n",
    "* Todo el código desarrollado debe ser subido a un repositorio en GitHub (el nombre del repositorio de seguir la siguiente estructura: tp4_tlp3_nombre_apellido).\n",
    "* Para resolver las actividades se debe insertar casillas de codigo entre cada actividad del cuaderno de Jupyter\n",
    "\n",
    "### ¡Importante!\n",
    "**El incumplimiento de los criterios de evaluación restará puntos en la nota final del práctico!**"
   ]
  },
  {
   "cell_type": "markdown",
   "id": "6f3340d9",
   "metadata": {},
   "source": [
    "**Importaciones:**"
   ]
  },
  {
   "cell_type": "code",
   "execution_count": 25,
   "id": "783ab170",
   "metadata": {},
   "outputs": [],
   "source": [
    "import numpy as np\n",
    "from random import randint"
   ]
  },
  {
   "cell_type": "markdown",
   "id": "c5ba7292",
   "metadata": {},
   "source": [
    "**Actividad 1:**: Crea un array de NumPy que contenga los números del 0 al 9. (Debes utilizar un metodo de numpy para su creacion.)"
   ]
  },
  {
   "cell_type": "code",
   "execution_count": null,
   "id": "75029034",
   "metadata": {},
   "outputs": [
    {
     "name": "stdout",
     "output_type": "stream",
     "text": [
      "[0 1 2 3 4 5 6 7 8 9]\n",
      "<class 'numpy.ndarray'>\n"
     ]
    }
   ],
   "source": [
    "# Array del 0 al 9\n",
    "array1 = np.arange(10)\n",
    "\n",
    "# Mostrar array\n",
    "print(array1)\n",
    "\n",
    "# Mouestro el tipo de dato del array para asegurarme\n",
    "print(type(array1))\n"
   ]
  },
  {
   "cell_type": "markdown",
   "id": "cb894927",
   "metadata": {},
   "source": [
    "**Actividad 2:** Crea un array de 5 ceros, y luego cambia el tercer elemento (índice 2) para que sea 5. (Debes utilizar un metodo de numpy para su creacion.)"
   ]
  },
  {
   "cell_type": "code",
   "execution_count": 169,
   "id": "b9cd04a0",
   "metadata": {},
   "outputs": [
    {
     "data": {
      "text/plain": [
       "array([0., 0., 5., 0., 0.])"
      ]
     },
     "execution_count": 169,
     "metadata": {},
     "output_type": "execute_result"
    }
   ],
   "source": [
    "# Array de ceros con 5 elementos\n",
    "array_zeros = np.zeros(5)\n",
    "\n",
    "# Asigné el valor 5 en la posición 2 del array\n",
    "array_zeros[2] = 5\n",
    "\n",
    "# Mostré el array\n",
    "array_zeros"
   ]
  },
  {
   "cell_type": "markdown",
   "id": "000352a3",
   "metadata": {},
   "source": [
    "**Actividad 3:** Genera una matriz 3x3 de números aleatorios entre 0 y 1."
   ]
  },
  {
   "cell_type": "code",
   "execution_count": 168,
   "id": "e74354c9",
   "metadata": {},
   "outputs": [
    {
     "name": "stdout",
     "output_type": "stream",
     "text": [
      "[[1. 0. 0.]\n",
      " [0. 1. 0.]\n",
      " [0. 0. 1.]]\n"
     ]
    }
   ],
   "source": [
    "# Matriz identidad de 3x3 con unos en la diagonal y ceros en el resto\n",
    "array_zeros_ones = np.eye(3)\n",
    "\n",
    "# Mostré la matriz\n",
    "print(array_zeros_ones)\n"
   ]
  },
  {
   "cell_type": "markdown",
   "id": "6611aaf8",
   "metadata": {},
   "source": [
    "**Actividad 4:** Dado el siguiente array `arr = np.array([10, 20, 30, 40, 50])`\n",
    "1. Suma 5 a cada elemento.\n",
    "2. Multiplica todo por un numero aleatorio (utiliza el modulo random para generarlo.)"
   ]
  },
  {
   "cell_type": "code",
   "execution_count": 172,
   "id": "ed416e11",
   "metadata": {},
   "outputs": [
    {
     "name": "stdout",
     "output_type": "stream",
     "text": [
      "Array original = [10 20 30 40 50]\n",
      "Array sumado = [15 25 35 45 55]\n",
      "--------------------------------\n",
      "Mi numero random es 7\n",
      "Array original multiplicado por un valor random = [ 70 140 210 280 350]\n"
     ]
    }
   ],
   "source": [
    "arr = np.array([10, 20, 30, 40, 50])\n",
    "print(f\"Array original = {arr}\")\n",
    "\n",
    "#Sumo el array + 5\n",
    "array_sumado = arr + 5\n",
    "print(f\"Array sumado = {array_sumado}\")\n",
    "\n",
    "print(\"--------------------------------\")\n",
    "\n",
    "#Genero el número random para hacer la multiplicación\n",
    "num_random = randint(1,10)\n",
    "print(f\"Mi numero random es {num_random}\")\n",
    "array_multiplicado = arr * num_random\n",
    "print(f\"Array original multiplicado por un valor random = {array_multiplicado}\")"
   ]
  },
  {
   "cell_type": "markdown",
   "id": "fbd05c4d",
   "metadata": {},
   "source": [
    "**Actividad 5:** Crea una matriz identidad de tamaño 4x4 (unos en la diagonal principal y ceros en el resto)."
   ]
  },
  {
   "cell_type": "code",
   "execution_count": null,
   "id": "6811c19f",
   "metadata": {},
   "outputs": [
    {
     "name": "stdout",
     "output_type": "stream",
     "text": [
      "La array identidad es: \n",
      " [[1. 0. 0. 0.]\n",
      " [0. 1. 0. 0.]\n",
      " [0. 0. 1. 0.]\n",
      " [0. 0. 0. 1.]]\n"
     ]
    }
   ],
   "source": [
    "#Genero un array identidad 4x4 con 1 en la diagonal y lo demás son ceros\n",
    "array_identidad = np.eye(4)\n",
    "\n",
    "#Imprimo el array\n",
    "print(f\"La array identidad es: \\n {array_identidad}\")"
   ]
  },
  {
   "cell_type": "markdown",
   "id": "3ec18459",
   "metadata": {},
   "source": [
    "**Actividad 6:** Crea un array que comience en 0 hasta el 20, pero que solo tenga numeros pares yu luego realiza las 4 operaciones basicas. (suma, resta, multiplicacion, division)."
   ]
  },
  {
   "cell_type": "code",
   "execution_count": 175,
   "id": "f0c02872",
   "metadata": {},
   "outputs": [
    {
     "name": "stdout",
     "output_type": "stream",
     "text": [
      "Array original = [ 0  2  4  6  8 10 12 14 16 18 20]\n",
      "Número para hacer operaciones: 2\n",
      "------------------------\n",
      "La suma es: [ 2  4  6  8 10 12 14 16 18 20 22] \n",
      "------------------------ \n",
      "La resta es: [-2  0  2  4  6  8 10 12 14 16 18] \n",
      "----------------------- \n",
      "la multiplicación es: [ 0  4  8 12 16 20 24 28 32 36 40] \n",
      "------------------------ \n",
      "la división es: [ 0.  1.  2.  3.  4.  5.  6.  7.  8.  9. 10.]\n"
     ]
    }
   ],
   "source": [
    "#Uso la función arange para que genere una matriz que llegue hasta el número 20 con paso 2, osea que solo muestre los números pares\n",
    "array_num_pares = np.arange(0,22,2)\n",
    "print(f\"Array original = {array_num_pares}\")\n",
    "\n",
    "#Genero un número random para las operaciones\n",
    "num_para_operar = randint(1,5)\n",
    "print(f\"Número para hacer operaciones: {num_para_operar}\")\n",
    "\n",
    "#Sumo\n",
    "suma_pares = array_num_pares + num_para_operar \n",
    "#Resto\n",
    "resta_pares = array_num_pares - num_para_operar\n",
    "#Multiplico\n",
    "multiplicacion_pares = array_num_pares * num_para_operar \n",
    "#Divido\n",
    "division_pares = array_num_pares / num_para_operar\n",
    "\n",
    "#Muestro los resultados con saltos de linea para su mejor comprensión\n",
    "print(f\"------------------------\\nLa suma es: {suma_pares} \\n------------------------ \\nLa resta es: {resta_pares} \\n----------------------- \\nla multiplicación es: {multiplicacion_pares} \\n------------------------ \\nla división es: {division_pares}\") \n",
    "\n"
   ]
  }
 ],
 "metadata": {
  "kernelspec": {
   "display_name": "venv",
   "language": "python",
   "name": "python3"
  },
  "language_info": {
   "codemirror_mode": {
    "name": "ipython",
    "version": 3
   },
   "file_extension": ".py",
   "mimetype": "text/x-python",
   "name": "python",
   "nbconvert_exporter": "python",
   "pygments_lexer": "ipython3",
   "version": "3.13.2"
  }
 },
 "nbformat": 4,
 "nbformat_minor": 5
}
